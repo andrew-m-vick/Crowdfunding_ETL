{
 "cells": [
  {
   "cell_type": "code",
   "execution_count": null,
   "id": "4165c64d-35fb-4102-90d2-bcf55bb7d2b8",
   "metadata": {},
   "outputs": [],
   "source": [
    "# for database connections\n",
    "import sqlalchemy\n",
    "from sqlalchemy import create_engine, inspect, text\n",
    "\n",
    "# data\n",
    "import pandas as pd\n",
    "import numpy as np\n",
    "\n",
    "# viz\n",
    "import seaborn as sns\n",
    "import matplotlib.pyplot as plt"
   ]
  },
  {
   "cell_type": "code",
   "execution_count": null,
   "id": "77979ab4-ce89-47bc-897e-428377fd2135",
   "metadata": {},
   "outputs": [],
   "source": [
    "SQL_USERNAME = \"postgres\"\n",
    "SQL_PASSWORD = \"postgres\" # change this\n",
    "SQL_IP = \"localhost\"\n",
    "PORT = 5432\n",
    "DATABASE = \"project_two_ex\" # change this"
   ]
  },
  {
   "cell_type": "code",
   "execution_count": null,
   "id": "5a8a5937-0185-41c4-974a-4cd2fa1ac244",
   "metadata": {},
   "outputs": [],
   "source": [
    "connection_string = f\"postgresql+psycopg2://{SQL_USERNAME}:{SQL_PASSWORD}@{SQL_IP}:{PORT}/{DATABASE}\"\n",
    "engine = create_engine(connection_string)"
   ]
  },
  {
   "cell_type": "code",
   "execution_count": null,
   "id": "103ab112-e7cd-467c-a6dc-3106e6ca9528",
   "metadata": {},
   "outputs": [],
   "source": [
    "# explore and understand the data\n",
    "\n",
    "# Create the inspector and connect it to the engine\n",
    "inspector = inspect(engine)\n",
    "\n",
    "# Collect the names of tables within the database\n",
    "tables = inspector.get_table_names()\n",
    "\n",
    "# Using the inspector to print the column names within each table and its types\n",
    "for table in tables:\n",
    "    print(table)\n",
    "    columns = inspector.get_columns(table)\n",
    "    for column in columns:\n",
    "        print(column[\"name\"], column[\"type\"])\n",
    "        \n",
    "    print()"
   ]
  },
  {
   "cell_type": "code",
   "execution_count": null,
   "id": "30201e68-4f93-49e7-bb56-dfc967a0aeb7",
   "metadata": {},
   "outputs": [],
   "source": [
    "df = pd.read_csv(\"Resources - BOOOOTH/bird_bands.csv\")   #change this\n",
    "df.head()"
   ]
  },
  {
   "cell_type": "code",
   "execution_count": null,
   "id": "c1c53d0f-2f1d-43c0-ad69-442951aba45c",
   "metadata": {},
   "outputs": [],
   "source": [
    "df.columns = [x.lower() for x in df.columns]\n",
    "df.head()"
   ]
  },
  {
   "cell_type": "code",
   "execution_count": null,
   "id": "724684eb-0976-423e-8251-64b920d10690",
   "metadata": {},
   "outputs": [],
   "source": [
    "df.to_sql(\"bird_bands\", schema=\"public\", con=engine, index=False, if_exists=\"append\", method=\"multi\")   ##change this"
   ]
  },
  {
   "cell_type": "code",
   "execution_count": null,
   "id": "65d3f821-4180-44ee-a3d5-25f8ecc1372b",
   "metadata": {},
   "outputs": [],
   "source": []
  },
  {
   "cell_type": "code",
   "execution_count": null,
   "id": "e73044b5-8a4f-4a61-8c1e-d2b4ee7b4ac3",
   "metadata": {},
   "outputs": [],
   "source": []
  }
 ],
 "metadata": {
  "kernelspec": {
   "display_name": "Python 3 (ipykernel)",
   "language": "python",
   "name": "python3"
  },
  "language_info": {
   "codemirror_mode": {
    "name": "ipython",
    "version": 3
   },
   "file_extension": ".py",
   "mimetype": "text/x-python",
   "name": "python",
   "nbconvert_exporter": "python",
   "pygments_lexer": "ipython3",
   "version": "3.10.14"
  }
 },
 "nbformat": 4,
 "nbformat_minor": 5
}

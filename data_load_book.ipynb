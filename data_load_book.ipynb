{
 "cells": [
  {
   "cell_type": "code",
   "execution_count": 1,
   "id": "309e6e4b-2cf4-452d-ab5b-341466284499",
   "metadata": {},
   "outputs": [],
   "source": [
    "# for database connections\n",
    "import sqlalchemy\n",
    "from sqlalchemy import create_engine, inspect, text\n",
    "\n",
    "# data\n",
    "import pandas as pd"
   ]
  },
  {
   "cell_type": "code",
   "execution_count": 2,
   "id": "1ae24012-1143-4a40-9a3f-18960b782525",
   "metadata": {},
   "outputs": [],
   "source": [
    "SQL_USERNAME = \"postgres\"\n",
    "SQL_PASSWORD = \"aguascalientes9808\"\n",
    "SQL_IP = \"localhost\"\n",
    "PORT = 5432\n",
    "DATABASE = \"crowdfunding_db\""
   ]
  },
  {
   "cell_type": "code",
   "execution_count": 6,
   "id": "df01870c-b3f0-4329-9303-820fc9f32757",
   "metadata": {},
   "outputs": [],
   "source": [
    "# create a dictionarie with the tables and csv files \\n\",\n",
    "TABLE_PATHS = {\n",
    "    \"category\": \"Resources/category.csv\",\n",
    "    \"contact\": \"Resources/contacts.csv\",\n",
    "    \"subcategory\": \"Resources/subcategory.csv\",\n",
    "    \"campaign\": \"Resources/campaign.csv\"\n",
    "}"
   ]
  },
  {
   "cell_type": "code",
   "execution_count": 7,
   "id": "277c25b1-78c9-477c-a97d-df3b954f2cd7",
   "metadata": {},
   "outputs": [],
   "source": [
    "connection_string = f\"postgresql+psycopg2://{SQL_USERNAME}:{SQL_PASSWORD}@{SQL_IP}:{PORT}/{DATABASE}\"\n",
    "engine = create_engine(connection_string)"
   ]
  },
  {
   "cell_type": "code",
   "execution_count": 8,
   "id": "c0be45bc-a9a8-4f33-9dc2-f2230b297931",
   "metadata": {},
   "outputs": [],
   "source": [
    "# explore and understand the data\n",
    "\n",
    "# Create the inspector and connect it to the engine\n",
    "inspector = inspect(engine)"
   ]
  },
  {
   "cell_type": "code",
   "execution_count": 9,
   "id": "fff17c2b-b743-4d30-8531-4ccc128caf73",
   "metadata": {},
   "outputs": [],
   "source": [
    "# Define the table to use in a for loop\n",
    "def load_csv(table_name, csv_path):\n",
    "    df = pd.read_csv(csv_path)\n",
    "    df.to_sql(table_name, schema=\"public\", con=engine, index=False, if_exists=\"append\", method=\"multi\")"
   ]
  },
  {
   "cell_type": "code",
   "execution_count": null,
   "id": "e424ba1a-61dd-46aa-825e-81ef0419ab11",
   "metadata": {},
   "outputs": [],
   "source": [
    "# Make the for loop\n",
    "for table in TABLE_PATHS:\n",
    "    load_csv(table, TABLE_PATHS[table])"
   ]
  },
  {
   "cell_type": "code",
   "execution_count": null,
   "id": "7fcd1d62-9ad5-4005-93ad-c0e2f816f670",
   "metadata": {},
   "outputs": [],
   "source": [
    "# This will also works\n",
    "# for table, path in TABLE_PATHS.items():\n",
    "    #load_csv(table, path)"
   ]
  }
 ],
 "metadata": {
  "kernelspec": {
   "display_name": "Python 3 (ipykernel)",
   "language": "python",
   "name": "python3"
  },
  "language_info": {
   "codemirror_mode": {
    "name": "ipython",
    "version": 3
   },
   "file_extension": ".py",
   "mimetype": "text/x-python",
   "name": "python",
   "nbconvert_exporter": "python",
   "pygments_lexer": "ipython3",
   "version": "3.10.14"
  }
 },
 "nbformat": 4,
 "nbformat_minor": 5
}

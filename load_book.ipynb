{
 "cells": [
  {
   "cell_type": "code",
   "execution_count": 1,
   "id": "ef612aec-114b-450f-8f4a-b437bd9f544d",
   "metadata": {},
   "outputs": [],
   "source": [
    "# for database connections\n",
    "import sqlalchemy\n",
    "from sqlalchemy import create_engine, inspect, text\n",
    "\n",
    "# data\n",
    "import pandas as pd"
   ]
  },
  {
   "cell_type": "code",
   "execution_count": 2,
   "id": "3f414246-2b66-4ce2-b680-f2c03fc95ecb",
   "metadata": {},
   "outputs": [],
   "source": [
    "SQL_USERNAME = \"postgres\"\n",
    "SQL_PASSWORD = \"aguascalientes9808\"\n",
    "SQL_IP = \"localhost\"\n",
    "PORT = 5432\n",
    "DATABASE = \"crowdfunding_db\""
   ]
  },
  {
   "cell_type": "code",
   "execution_count": 3,
   "id": "febd694b-79df-49da-b0b9-ea616a79d5ee",
   "metadata": {},
   "outputs": [],
   "source": [
    "# create a dictionarie with the tables and csv files \n",
    "TABLE_PATHS = {\n",
    "    \"category\": \"Resources/category.csv\",\n",
    "    \"contact\": \"Resources/contacts.csv\",\n",
    "    \"subcategory\": \"Resources/subcategory.csv\",\n",
    "    \"campaign\": \"Resources/campaign.csv\"\n",
    "}\n",
    "#\"campaign\": \"Resources/campaign.csv\""
   ]
  },
  {
   "cell_type": "code",
   "execution_count": 4,
   "id": "5a9b3b10-88e8-49e9-a0d0-00438bdb94d6",
   "metadata": {},
   "outputs": [],
   "source": [
    "# Create the engine connection\n",
    "connection_string = f\"postgresql+psycopg2://{SQL_USERNAME}:{SQL_PASSWORD}@{SQL_IP}:{PORT}/{DATABASE}\"\n",
    "engine = create_engine(connection_string)"
   ]
  },
  {
   "cell_type": "code",
   "execution_count": 5,
   "id": "0a5e9fd6-1dac-401b-81b9-0c3c00fc558f",
   "metadata": {},
   "outputs": [],
   "source": [
    "# explore and understand the data\n",
    "\n",
    "# Create the inspector and connect it to the engine\n",
    "inspector = inspect(engine)"
   ]
  },
  {
   "cell_type": "code",
   "execution_count": 10,
   "id": "351829ba-3be6-4d40-9fb5-9f30257c7b5e",
   "metadata": {},
   "outputs": [],
   "source": [
    "# Define the table to use in a for loop\n",
    "def load_csv(table_name, csv_path):\n",
    "    df = pd.read_csv(csv_path)\n",
    "    df.to_sql(table_name, schema=\"public\", con=engine, index=False, if_exists=\"append\", method=\"multi\")"
   ]
  },
  {
   "cell_type": "code",
   "execution_count": 11,
   "id": "f2eeb395-0fd9-4705-94be-a4dc9fad0b83",
   "metadata": {},
   "outputs": [],
   "source": [
    "# Make the for loop\n",
    "for table in TABLE_PATHS:\n",
    "    load_csv(table, TABLE_PATHS[table])"
   ]
  },
  {
   "cell_type": "code",
   "execution_count": 12,
   "id": "ee08d105-cd48-46de-9d0e-18c5171924d8",
   "metadata": {},
   "outputs": [
    {
     "data": {
      "text/plain": [
       "dict_items([('category', 'Resources/category.csv'), ('contact', 'Resources/contacts.csv'), ('subcategory', 'Resources/subcategory.csv'), ('campaign', 'Resources/campaign.csv')])"
      ]
     },
     "execution_count": 12,
     "metadata": {},
     "output_type": "execute_result"
    }
   ],
   "source": [
    "TABLE_PATHS.items()"
   ]
  },
  {
   "cell_type": "code",
   "execution_count": null,
   "id": "8be41770-2032-4071-ba53-07f90e304d54",
   "metadata": {},
   "outputs": [],
   "source": [
    "# This will also works\n",
    "#for table, path in TABLE_PATHS.items():\n",
    "    #load_csv(table, path)"
   ]
  }
 ],
 "metadata": {
  "kernelspec": {
   "display_name": "Python 3 (ipykernel)",
   "language": "python",
   "name": "python3"
  },
  "language_info": {
   "codemirror_mode": {
    "name": "ipython",
    "version": 3
   },
   "file_extension": ".py",
   "mimetype": "text/x-python",
   "name": "python",
   "nbconvert_exporter": "python",
   "pygments_lexer": "ipython3",
   "version": "3.10.14"
  }
 },
 "nbformat": 4,
 "nbformat_minor": 5
}

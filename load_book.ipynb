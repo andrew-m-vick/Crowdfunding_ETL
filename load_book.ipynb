{
 "cells": [
  {
   "cell_type": "code",
   "execution_count": 1,
   "id": "ef612aec-114b-450f-8f4a-b437bd9f544d",
   "metadata": {},
   "outputs": [],
   "source": [
    "# for database connections\n",
    "import sqlalchemy\n",
    "from sqlalchemy import create_engine, inspect, text\n",
    "\n",
    "\n",
    "# data\n",
    "import pandas as pd"
   ]
  },
  {
   "cell_type": "code",
   "execution_count": 2,
   "id": "3f414246-2b66-4ce2-b680-f2c03fc95ecb",
   "metadata": {},
   "outputs": [],
   "source": [
    "SQL_USERNAME = \"postgres\"\n",
    "SQL_PASSWORD = \"postgres\"\n",
    "SQL_IP = \"localhost\"\n",
    "PORT = 5432\n",
    "DATABASE = \"crowdfunding_db\""
   ]
  },
  {
   "cell_type": "code",
   "execution_count": 3,
   "id": "ff4be385-cda4-45d2-a448-77b8c638b60a",
   "metadata": {},
   "outputs": [],
   "source": [
    "TABLE_PATHS = {\n",
    "    \"category\": \"Resources/category.csv\",\n",
    "    \"contact\": \"Resources/contacts.csv\",\n",
    "    \"subcategory\": \"Resources/subcategory.csv\"\n",
    "}\n",
    "# \"campaign\": \"Resources/campaign.csv\""
   ]
  },
  {
   "cell_type": "code",
   "execution_count": 4,
   "id": "5a9b3b10-88e8-49e9-a0d0-00438bdb94d6",
   "metadata": {},
   "outputs": [],
   "source": [
    "connection_string = f\"postgresql+psycopg2://{SQL_USERNAME}:{SQL_PASSWORD}@{SQL_IP}:{PORT}/{DATABASE}\"\n",
    "engine = create_engine(connection_string)"
   ]
  },
  {
   "cell_type": "code",
   "execution_count": 5,
   "id": "0a5e9fd6-1dac-401b-81b9-0c3c00fc558f",
   "metadata": {},
   "outputs": [],
   "source": [
    "# explore and understand the data\n",
    "\n",
    "# Create the inspector and connect it to the engine\n",
    "inspector = inspect(engine)"
   ]
  },
  {
   "cell_type": "code",
   "execution_count": 6,
   "id": "351829ba-3be6-4d40-9fb5-9f30257c7b5e",
   "metadata": {},
   "outputs": [],
   "source": [
    "def load_csv(table_name, csv_path):\n",
    "  df = pd.read_csv(csv_path)\n",
    "  df.to_sql(table_name, schema=\"public\", con=engine, index=False, if_exists=\"append\", method=\"multi\")"
   ]
  },
  {
   "cell_type": "code",
   "execution_count": 7,
   "id": "1fde6053-ab90-4fc1-ae87-cbc8ac4dff06",
   "metadata": {},
   "outputs": [],
   "source": [
    "for table in TABLE_PATHS:\n",
    "    load_csv(table, TABLE_PATHS[table])"
   ]
  },
  {
   "cell_type": "code",
   "execution_count": null,
   "id": "d6d2bfb0-761e-4f4f-8dce-80af9b86e713",
   "metadata": {},
   "outputs": [],
   "source": []
  }
 ],
 "metadata": {
  "kernelspec": {
   "display_name": "Python 3 (ipykernel)",
   "language": "python",
   "name": "python3"
  },
  "language_info": {
   "codemirror_mode": {
    "name": "ipython",
    "version": 3
   },
   "file_extension": ".py",
   "mimetype": "text/x-python",
   "name": "python",
   "nbconvert_exporter": "python",
   "pygments_lexer": "ipython3",
   "version": "3.10.14"
  }
 },
 "nbformat": 4,
 "nbformat_minor": 5
}

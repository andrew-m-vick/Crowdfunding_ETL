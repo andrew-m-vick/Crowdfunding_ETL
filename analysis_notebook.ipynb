{
 "cells": [
  {
   "cell_type": "code",
   "execution_count": 1,
   "id": "b4e7e52c-246e-48a1-a74f-03e708ecc5ac",
   "metadata": {},
   "outputs": [],
   "source": [
    "# data science\n",
    "import matplotlib.pyplot as plt\n",
    "import pandas as pd\n",
    "import numpy as np\n",
    "import seaborn as sns\n",
    "\n",
    "# Python SQL toolkit and Object Relational Mapper\n",
    "import sqlalchemy\n",
    "from sqlalchemy.ext.automap import automap_base\n",
    "from sqlalchemy.orm import Session\n",
    "from sqlalchemy import create_engine, text, inspect, func"
   ]
  },
  {
   "cell_type": "code",
   "execution_count": null,
   "id": "83f97be0-221d-4a1e-aedf-a8066b6de600",
   "metadata": {},
   "outputs": [],
   "source": [
    "filepath = \"../Resources/\"\n",
    "engine = create_engine(f\"sqlite:///{filepath}\")"
   ]
  },
  {
   "cell_type": "code",
   "execution_count": null,
   "id": "29e88133-3647-48c5-bec0-b1e61d87266d",
   "metadata": {},
   "outputs": [],
   "source": []
  }
 ],
 "metadata": {
  "kernelspec": {
   "display_name": "Python 3 (ipykernel)",
   "language": "python",
   "name": "python3"
  },
  "language_info": {
   "codemirror_mode": {
    "name": "ipython",
    "version": 3
   },
   "file_extension": ".py",
   "mimetype": "text/x-python",
   "name": "python",
   "nbconvert_exporter": "python",
   "pygments_lexer": "ipython3",
   "version": "3.10.14"
  }
 },
 "nbformat": 4,
 "nbformat_minor": 5
}
